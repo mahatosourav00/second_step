{
 "cells": [
  {
   "cell_type": "code",
   "execution_count": 1,
   "metadata": {},
   "outputs": [],
   "source": [
    "import sys\n",
    "import os\n",
    "import math\n",
    "import time\n",
    "\n",
    "import numpy as np\n",
    "from scipy import constants\n",
    "import seaborn as sb\n",
    "import matplotlib.pyplot as plt\n",
    "from spectral import *\n",
    "from scipy.signal import savgol_filter\n",
    "from scipy.optimize import curve_fit\n",
    "from scipy.optimize import least_squares\n",
    "import threading\n",
    "\n",
    "import total_hapke"
   ]
  },
  {
   "cell_type": "code",
   "execution_count": 2,
   "metadata": {},
   "outputs": [],
   "source": [
    "class Jekono(threading.Thread):\n",
    "    def __init__(self, obs_dir, rad_dir, band):\n",
    "        self.obs_dir = obs_dir\n",
    "        self.rad_dir = rad_dir\n",
    "        self.band = band\n",
    "        super().__init__()\n",
    "    def run(self):\n",
    "        total_hapke.main(self.obs_dir, self.rad_dir, self.band)"
   ]
  },
  {
   "cell_type": "code",
   "execution_count": 3,
   "metadata": {},
   "outputs": [
    {
     "name": "stderr",
     "output_type": "stream",
     "text": [
      "  0%|          | 0/21 [00:00<?, ?it/s]\n"
     ]
    },
    {
     "ename": "FileNotFoundError",
     "evalue": "[Errno 2] No such file or directory: '../Initial_thermally_corrected/corr_i_m3g20081129t052459_v03_obs.hdr'",
     "output_type": "error",
     "traceback": [
      "\u001b[1;31m---------------------------------------------------------------------------\u001b[0m",
      "\u001b[1;31mFileNotFoundError\u001b[0m                         Traceback (most recent call last)",
      "\u001b[1;32md:\\Sourav\\Lunar thermal Correction\\Lunar-thermal-correction-Source-Code\\Second Step\\main.ipynb Cell 3\u001b[0m in \u001b[0;36m<cell line: 7>\u001b[1;34m()\u001b[0m\n\u001b[0;32m      <a href='vscode-notebook-cell:/d%3A/Sourav/Lunar%20thermal%20Correction/Lunar-thermal-correction-Source-Code/Second%20Step/main.ipynb#W1sZmlsZQ%3D%3D?line=5'>6</a>\u001b[0m i \u001b[39m=\u001b[39m \u001b[39m0\u001b[39m\n\u001b[0;32m      <a href='vscode-notebook-cell:/d%3A/Sourav/Lunar%20thermal%20Correction/Lunar-thermal-correction-Source-Code/Second%20Step/main.ipynb#W1sZmlsZQ%3D%3D?line=6'>7</a>\u001b[0m \u001b[39mfor\u001b[39;00m band \u001b[39min\u001b[39;00m \u001b[39mrange\u001b[39m(total_bands):\n\u001b[1;32m----> <a href='vscode-notebook-cell:/d%3A/Sourav/Lunar%20thermal%20Correction/Lunar-thermal-correction-Source-Code/Second%20Step/main.ipynb#W1sZmlsZQ%3D%3D?line=7'>8</a>\u001b[0m     Jekono(obs_dir, initial_rad_dir, band)\u001b[39m.\u001b[39;49mrun()\n",
      "\u001b[1;32md:\\Sourav\\Lunar thermal Correction\\Lunar-thermal-correction-Source-Code\\Second Step\\main.ipynb Cell 3\u001b[0m in \u001b[0;36mJekono.run\u001b[1;34m(self)\u001b[0m\n\u001b[0;32m      <a href='vscode-notebook-cell:/d%3A/Sourav/Lunar%20thermal%20Correction/Lunar-thermal-correction-Source-Code/Second%20Step/main.ipynb#W1sZmlsZQ%3D%3D?line=6'>7</a>\u001b[0m \u001b[39mdef\u001b[39;00m \u001b[39mrun\u001b[39m(\u001b[39mself\u001b[39m):\n\u001b[1;32m----> <a href='vscode-notebook-cell:/d%3A/Sourav/Lunar%20thermal%20Correction/Lunar-thermal-correction-Source-Code/Second%20Step/main.ipynb#W1sZmlsZQ%3D%3D?line=7'>8</a>\u001b[0m     total_hapke\u001b[39m.\u001b[39;49mmain(\u001b[39mself\u001b[39;49m\u001b[39m.\u001b[39;49mobs_dir, \u001b[39mself\u001b[39;49m\u001b[39m.\u001b[39;49mrad_dir, \u001b[39mself\u001b[39;49m\u001b[39m.\u001b[39;49mband)\n",
      "File \u001b[1;32md:\\Sourav\\Lunar thermal Correction\\Lunar-thermal-correction-Source-Code\\Second Step\\total_hapke.py:6\u001b[0m, in \u001b[0;36mmain\u001b[1;34m(obs_dir, rad_dir, band)\u001b[0m\n\u001b[0;32m      5\u001b[0m \u001b[39mdef\u001b[39;00m \u001b[39mmain\u001b[39m(obs_dir, rad_dir, band):\n\u001b[1;32m----> 6\u001b[0m     binned \u001b[39m=\u001b[39m \u001b[39mbin\u001b[39;49m\u001b[39m.\u001b[39;49mmain(obs_dir, rad_dir, band)\n\u001b[0;32m      7\u001b[0m     hapke_photometry\u001b[39m.\u001b[39mmain(binned, band)\n",
      "File \u001b[1;32md:\\Sourav\\Lunar thermal Correction\\Lunar-thermal-correction-Source-Code\\Second Step\\bin.py:29\u001b[0m, in \u001b[0;36mmain\u001b[1;34m(obs_dir, rad_dir, band)\u001b[0m\n\u001b[0;32m     27\u001b[0m img \u001b[39m=\u001b[39m envi\u001b[39m.\u001b[39mopen(obs_dir\u001b[39m+\u001b[39mfilename)\n\u001b[0;32m     28\u001b[0m img_obs \u001b[39m=\u001b[39m img\u001b[39m.\u001b[39mopen_memmap(writable\u001b[39m=\u001b[39m\u001b[39mFalse\u001b[39;00m)\n\u001b[1;32m---> 29\u001b[0m img_open \u001b[39m=\u001b[39m np\u001b[39m.\u001b[39;49mload(rad_dir\u001b[39m+\u001b[39;49m\u001b[39m'\u001b[39;49m\u001b[39mcorr_i_\u001b[39;49m\u001b[39m'\u001b[39;49m\u001b[39m+\u001b[39;49mfilename)\n\u001b[0;32m     31\u001b[0m \u001b[39mfor\u001b[39;00m row \u001b[39min\u001b[39;00m \u001b[39mrange\u001b[39m(\u001b[39mlen\u001b[39m(img_open)):\n\u001b[0;32m     33\u001b[0m     \u001b[39mfor\u001b[39;00m col \u001b[39min\u001b[39;00m \u001b[39mrange\u001b[39m(\u001b[39mlen\u001b[39m(img_open[\u001b[39m0\u001b[39m])):\n",
      "File \u001b[1;32m~\\AppData\\Local\\Packages\\PythonSoftwareFoundation.Python.3.10_qbz5n2kfra8p0\\LocalCache\\local-packages\\Python310\\site-packages\\numpy\\lib\\npyio.py:390\u001b[0m, in \u001b[0;36mload\u001b[1;34m(file, mmap_mode, allow_pickle, fix_imports, encoding)\u001b[0m\n\u001b[0;32m    388\u001b[0m     own_fid \u001b[39m=\u001b[39m \u001b[39mFalse\u001b[39;00m\n\u001b[0;32m    389\u001b[0m \u001b[39melse\u001b[39;00m:\n\u001b[1;32m--> 390\u001b[0m     fid \u001b[39m=\u001b[39m stack\u001b[39m.\u001b[39menter_context(\u001b[39mopen\u001b[39;49m(os_fspath(file), \u001b[39m\"\u001b[39;49m\u001b[39mrb\u001b[39;49m\u001b[39m\"\u001b[39;49m))\n\u001b[0;32m    391\u001b[0m     own_fid \u001b[39m=\u001b[39m \u001b[39mTrue\u001b[39;00m\n\u001b[0;32m    393\u001b[0m \u001b[39m# Code to distinguish from NumPy binary files and pickles.\u001b[39;00m\n",
      "\u001b[1;31mFileNotFoundError\u001b[0m: [Errno 2] No such file or directory: '../Initial_thermally_corrected/corr_i_m3g20081129t052459_v03_obs.hdr'"
     ]
    }
   ],
   "source": [
    "obs_dir = '../../Data/Data for hapke phase von karman/'\n",
    "initial_rad_dir = '../Initial_thermally_corrected/'\n",
    "hapke_rad_dir = '/Second_step_correted/'\n",
    "total_bands = 85\n",
    "#hapke fit for every bands\n",
    "i = 0\n",
    "for band in range(total_bands):\n",
    "    Jekono(obs_dir, initial_rad_dir, band).run()\n",
    "    # Jekono(obs_dir, hapke_rad_dir, band).run()"
   ]
  }
 ],
 "metadata": {
  "kernelspec": {
   "display_name": "Python 3",
   "language": "python",
   "name": "python3"
  },
  "language_info": {
   "codemirror_mode": {
    "name": "ipython",
    "version": 3
   },
   "file_extension": ".py",
   "mimetype": "text/x-python",
   "name": "python",
   "nbconvert_exporter": "python",
   "pygments_lexer": "ipython3",
   "version": "3.10.10"
  },
  "orig_nbformat": 4,
  "vscode": {
   "interpreter": {
    "hash": "d9bdfba6101d3c00f48e31d3abd06cb21a42d47129d76bbedc5e40439114f976"
   }
  }
 },
 "nbformat": 4,
 "nbformat_minor": 2
}
